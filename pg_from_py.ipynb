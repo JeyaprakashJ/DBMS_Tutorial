{
 "cells": [
  {
   "cell_type": "code",
   "execution_count": null,
   "metadata": {},
   "outputs": [],
   "source": [
    "# write code to Generate below looking list\n",
    "# [[1],[2,3],[4,5,6],[7,8,9,10],[11,12,13,14,15,16]......]\n"
   ]
  },
  {
   "cell_type": "code",
   "execution_count": null,
   "metadata": {},
   "outputs": [],
   "source": [
    "# %pip install psycopg2"
   ]
  },
  {
   "cell_type": "code",
   "execution_count": 1,
   "metadata": {},
   "outputs": [],
   "source": [
    "import psycopg2\n",
    "\n",
    "# dbapi\n",
    "# sqlalchemy"
   ]
  },
  {
   "cell_type": "code",
   "execution_count": 2,
   "metadata": {},
   "outputs": [],
   "source": [
    "connection = psycopg2.connect(database=\"postgres\",\n",
    "                        host=\"localhost\",\n",
    "                        user=\"postgres\",\n",
    "                        password=\"postgres\",\n",
    "                        port=\"5432\")\n"
   ]
  },
  {
   "cell_type": "code",
   "execution_count": 3,
   "metadata": {},
   "outputs": [],
   "source": [
    "cursor1 = connection.cursor()"
   ]
  },
  {
   "cell_type": "code",
   "execution_count": 9,
   "metadata": {},
   "outputs": [],
   "source": [
    "cursor1.execute(\"SELECT * FROM staff\")\n",
    "\n",
    "\n",
    "cursor1.execute('''SELECT * FROM staff\n",
    "                where salary > 5000\n",
    "                ''')\n",
    "\n",
    "\n"
   ]
  },
  {
   "cell_type": "code",
   "execution_count": 14,
   "metadata": {},
   "outputs": [
    {
     "name": "stdout",
     "output_type": "stream",
     "text": [
      "None\n"
     ]
    }
   ],
   "source": [
    "print(cursor1.fetchone())"
   ]
  },
  {
   "cell_type": "code",
   "execution_count": 5,
   "metadata": {},
   "outputs": [],
   "source": [
    "import pandas"
   ]
  },
  {
   "cell_type": "code",
   "execution_count": 7,
   "metadata": {},
   "outputs": [],
   "source": [
    "data = pandas.DataFrame(cursor1.fetchall(),columns=[])"
   ]
  },
  {
   "cell_type": "code",
   "execution_count": 8,
   "metadata": {},
   "outputs": [
    {
     "data": {
      "text/html": [
       "<div>\n",
       "<style scoped>\n",
       "    .dataframe tbody tr th:only-of-type {\n",
       "        vertical-align: middle;\n",
       "    }\n",
       "\n",
       "    .dataframe tbody tr th {\n",
       "        vertical-align: top;\n",
       "    }\n",
       "\n",
       "    .dataframe thead th {\n",
       "        text-align: right;\n",
       "    }\n",
       "</style>\n",
       "<table border=\"1\" class=\"dataframe\">\n",
       "  <thead>\n",
       "    <tr style=\"text-align: right;\">\n",
       "      <th></th>\n",
       "      <th>0</th>\n",
       "      <th>1</th>\n",
       "      <th>2</th>\n",
       "      <th>3</th>\n",
       "      <th>4</th>\n",
       "      <th>5</th>\n",
       "      <th>6</th>\n",
       "      <th>7</th>\n",
       "      <th>8</th>\n",
       "      <th>9</th>\n",
       "      <th>10</th>\n",
       "    </tr>\n",
       "  </thead>\n",
       "  <tbody>\n",
       "    <tr>\n",
       "      <th>0</th>\n",
       "      <td>1</td>\n",
       "      <td>Kipling</td>\n",
       "      <td>Smith</td>\n",
       "      <td>M</td>\n",
       "      <td>1970-03-03</td>\n",
       "      <td>789 Oak Street, Anytown, CA 91234</td>\n",
       "      <td>789-012-3456</td>\n",
       "      <td>kip@email.com</td>\n",
       "      <td>Professor</td>\n",
       "      <td>Computer Science</td>\n",
       "      <td>5000</td>\n",
       "    </tr>\n",
       "    <tr>\n",
       "      <th>1</th>\n",
       "      <td>2</td>\n",
       "      <td>Ram</td>\n",
       "      <td>Prasath</td>\n",
       "      <td>M</td>\n",
       "      <td>1971-04-04</td>\n",
       "      <td>567 Pine Street, Anytown, CA 91234</td>\n",
       "      <td>567-890-1234</td>\n",
       "      <td>ram@email.com</td>\n",
       "      <td>Chair</td>\n",
       "      <td>Mathematics</td>\n",
       "      <td>6000</td>\n",
       "    </tr>\n",
       "    <tr>\n",
       "      <th>2</th>\n",
       "      <td>3</td>\n",
       "      <td>Thi</td>\n",
       "      <td>Smith</td>\n",
       "      <td>M</td>\n",
       "      <td>1970-03-03</td>\n",
       "      <td>789 Oak Street, Anytown, CA 91234</td>\n",
       "      <td>789-012-3456</td>\n",
       "      <td>kip@email.com</td>\n",
       "      <td>Professor</td>\n",
       "      <td>Computer Science</td>\n",
       "      <td>4500</td>\n",
       "    </tr>\n",
       "    <tr>\n",
       "      <th>3</th>\n",
       "      <td>4</td>\n",
       "      <td>Deepiga</td>\n",
       "      <td>Smith</td>\n",
       "      <td>M</td>\n",
       "      <td>1970-03-03</td>\n",
       "      <td>789 Oak Street, Anytown, CA 91234</td>\n",
       "      <td>789-012-3456</td>\n",
       "      <td>kip@email.com</td>\n",
       "      <td>Professor</td>\n",
       "      <td>Computer Science</td>\n",
       "      <td>6500</td>\n",
       "    </tr>\n",
       "    <tr>\n",
       "      <th>4</th>\n",
       "      <td>5</td>\n",
       "      <td>Arun</td>\n",
       "      <td>Smith</td>\n",
       "      <td>M</td>\n",
       "      <td>1970-03-03</td>\n",
       "      <td>789 Oak Street, Anytown, CA 91234</td>\n",
       "      <td>789-012-3456</td>\n",
       "      <td>kip@email.com</td>\n",
       "      <td>Professor</td>\n",
       "      <td>Zoology</td>\n",
       "      <td>7500</td>\n",
       "    </tr>\n",
       "    <tr>\n",
       "      <th>5</th>\n",
       "      <td>6</td>\n",
       "      <td>Arun</td>\n",
       "      <td>Pandian</td>\n",
       "      <td>M</td>\n",
       "      <td>2023-09-03</td>\n",
       "      <td>789 Oak Street, Anytown, CA 91234</td>\n",
       "      <td>789-012-3456</td>\n",
       "      <td>kip@email.com</td>\n",
       "      <td>Professor</td>\n",
       "      <td>Physics</td>\n",
       "      <td>7000</td>\n",
       "    </tr>\n",
       "  </tbody>\n",
       "</table>\n",
       "</div>"
      ],
      "text/plain": [
       "   0        1        2  3           4                                   5   \\\n",
       "0   1  Kipling    Smith  M  1970-03-03   789 Oak Street, Anytown, CA 91234   \n",
       "1   2      Ram  Prasath  M  1971-04-04  567 Pine Street, Anytown, CA 91234   \n",
       "2   3      Thi    Smith  M  1970-03-03   789 Oak Street, Anytown, CA 91234   \n",
       "3   4  Deepiga    Smith  M  1970-03-03   789 Oak Street, Anytown, CA 91234   \n",
       "4   5     Arun    Smith  M  1970-03-03   789 Oak Street, Anytown, CA 91234   \n",
       "5   6     Arun  Pandian  M  2023-09-03   789 Oak Street, Anytown, CA 91234   \n",
       "\n",
       "             6              7          8                 9     10  \n",
       "0  789-012-3456  kip@email.com  Professor  Computer Science  5000  \n",
       "1  567-890-1234  ram@email.com      Chair       Mathematics  6000  \n",
       "2  789-012-3456  kip@email.com  Professor  Computer Science  4500  \n",
       "3  789-012-3456  kip@email.com  Professor  Computer Science  6500  \n",
       "4  789-012-3456  kip@email.com  Professor           Zoology  7500  \n",
       "5  789-012-3456  kip@email.com  Professor           Physics  7000  "
      ]
     },
     "execution_count": 8,
     "metadata": {},
     "output_type": "execute_result"
    }
   ],
   "source": [
    "data"
   ]
  },
  {
   "cell_type": "code",
   "execution_count": 51,
   "metadata": {},
   "outputs": [
    {
     "name": "stdout",
     "output_type": "stream",
     "text": [
      "(1, 'Kipling', 'Smith', 'M', datetime.date(1970, 3, 3), '789 Oak Street, Anytown, CA 91234', '789-012-3456', 'kip@email.com', 'Professor', 'Computer Science', 5000)\n",
      "(2, 'Ram', 'Prasath', 'M', datetime.date(1971, 4, 4), '567 Pine Street, Anytown, CA 91234', '567-890-1234', 'ram@email.com', 'Chair', 'Mathematics', 6000)\n",
      "(3, 'Thi', 'Smith', 'M', datetime.date(1970, 3, 3), '789 Oak Street, Anytown, CA 91234', '789-012-3456', 'kip@email.com', 'Professor', 'Computer Science', 4500)\n",
      "(4, 'Deepiga', 'Smith', 'M', datetime.date(1970, 3, 3), '789 Oak Street, Anytown, CA 91234', '789-012-3456', 'kip@email.com', 'Professor', 'Computer Science', 6500)\n",
      "(5, 'Arun', 'Smith', 'M', datetime.date(1970, 3, 3), '789 Oak Street, Anytown, CA 91234', '789-012-3456', 'kip@email.com', 'Professor', 'Zoology', 7500)\n",
      "(6, 'Arun', 'Pandian', 'M', datetime.date(2023, 9, 3), '789 Oak Street, Anytown, CA 91234', '789-012-3456', 'kip@email.com', 'Professor', 'Physics', 7000)\n"
     ]
    }
   ],
   "source": [
    "for row in data:\n",
    "    print(row)"
   ]
  },
  {
   "cell_type": "code",
   "execution_count": 21,
   "metadata": {},
   "outputs": [],
   "source": [
    "connection.close()"
   ]
  },
  {
   "cell_type": "code",
   "execution_count": null,
   "metadata": {},
   "outputs": [],
   "source": [
    "def get_connection():\n",
    "\ttry:\n",
    "\t\treturn psycopg2.connect(\n",
    "\t\t\tdatabase=\"postgres\",\n",
    "\t\t\tuser=\"postgres\",\n",
    "\t\t\tpassword=\"postgres\",\n",
    "\t\t\thost=\"localhost\",\n",
    "\t\t\tport=5432,\n",
    "\t\t)\n",
    "\texcept:\n",
    "\t\treturn False\n",
    "\n",
    "conn = get_connection()\n",
    "\n",
    "if conn:\n",
    "\tprint(\"Connection to the PostgreSQL established successfully.\")\n",
    "else:\n",
    "\tprint(\"Connection to the PostgreSQL encountered and error.\")"
   ]
  },
  {
   "cell_type": "markdown",
   "metadata": {},
   "source": []
  }
 ],
 "metadata": {
  "kernelspec": {
   "display_name": "Python 3",
   "language": "python",
   "name": "python3"
  },
  "language_info": {
   "codemirror_mode": {
    "name": "ipython",
    "version": 3
   },
   "file_extension": ".py",
   "mimetype": "text/x-python",
   "name": "python",
   "nbconvert_exporter": "python",
   "pygments_lexer": "ipython3",
   "version": "3.11.5"
  },
  "orig_nbformat": 4
 },
 "nbformat": 4,
 "nbformat_minor": 2
}
